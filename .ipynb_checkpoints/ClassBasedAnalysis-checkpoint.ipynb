{
 "cells": [
  {
   "cell_type": "code",
   "execution_count": 63,
   "metadata": {},
   "outputs": [],
   "source": [
    "import csv\n",
    "\n",
    "file = open(\"guns.csv\", \"r\")\n",
    "read = csv.reader(file)\n",
    "rows = list(read)\n",
    "\n",
    "file2 = open(\"census.csv\", \"r\")\n",
    "readf = csv.reader(file2)\n",
    "rows2 = list(readf)\n",
    "\n",
    "census2010 = {\"White\": 197318956, \"Hispanic\": 44618105, \"Black\": 40250635, \"Native American/Native Alaskan\": 3739506, \"Asian/Pacific Islander\": 15834141}\n"
   ]
  },
  {
   "cell_type": "code",
   "execution_count": 70,
   "metadata": {},
   "outputs": [
    {
     "name": "stdout",
     "output_type": "stream",
     "text": [
      "{'White': 4.6356417981453335, 'Asian/Pacific Islander': 3.530346230970155, 'Black': 48.471284987180944, 'Native American/Native Alaskan': 8.717729026240365, 'Hispanic': 12.627161104219914}\n"
     ]
    }
   ],
   "source": [
    "class Explore():\n",
    "    def __init__(self, rows, census2010):\n",
    "        self.rows = rows\n",
    "        self.header = rows[:1]\n",
    "        self.main_data = rows[1:len(rows)]\n",
    "        self.census = census2010\n",
    "        \n",
    "    def viewHeader(self):\n",
    "        return self.header\n",
    "    \n",
    "    def viewData(self):\n",
    "        return self.main_data[:5]\n",
    "    \n",
    "    def deathsByYear(self, year):\n",
    "       total_deaths = 0\n",
    "       for item in self.main_data:\n",
    "           if int(item[1]) == year:\n",
    "                total_deaths += 1\n",
    "       return total_deaths\n",
    "\n",
    "    def allDeathYears(self):\n",
    "        deaths = {}\n",
    "        for item in self.main_data:\n",
    "            if item[1] in deaths:\n",
    "                deaths[item[1]] += 1\n",
    "            else:\n",
    "                deaths[item[1]] = 1\n",
    "                \n",
    "        return deaths\n",
    "    def deathByIntents(self):\n",
    "        intents = {}\n",
    "        for item in self.main_data:\n",
    "            if item[3] in intents:\n",
    "                intents[item[3]] += 1\n",
    "            else:\n",
    "                intents[item[3]] = 1\n",
    "        return intents\n",
    "    \n",
    "    def intentRace(self):\n",
    "        rintents = {}\n",
    "        \n",
    "        for item in self.main_data:\n",
    "            try:\n",
    "                if item[3] == \"Homicide\":\n",
    "                    if item[7] in rintents:\n",
    "                        rintents[item[7]] += 1\n",
    "                    else:\n",
    "                        rintents[item[7]] = 1\n",
    "            except Exception:\n",
    "                    print(Exception)\n",
    "        return rintents\n",
    "    \n",
    "    def homicideRates(self):\n",
    "        homicide_rates = {}\n",
    "        intRace = self.intentRace()\n",
    "        for k,v in intRace.items():\n",
    "            homicide_rates[k] = (v/self.census[k] * 100000)\n",
    "        return homicide_rates\n",
    "                \n",
    "        \n",
    "inst = Explore(rows, census2010)\n",
    "\n",
    "header = inst.viewHeader()\n",
    "maindata = inst.viewData()\n",
    "deathsBYyear = inst.deathsByYear(2012)\n",
    "deathyears = inst.allDeathYears()\n",
    "deathintents = inst.deathByIntents()\n",
    "racialHomicide = inst.intentRace()\n",
    "print(inst.homicideRates())\n"
   ]
  },
  {
   "cell_type": "code",
   "execution_count": null,
   "metadata": {},
   "outputs": [],
   "source": [
    "\n"
   ]
  }
 ],
 "metadata": {
  "kernelspec": {
   "display_name": "Python 3",
   "language": "python",
   "name": "python3"
  },
  "language_info": {
   "codemirror_mode": {
    "name": "ipython",
    "version": 3
   },
   "file_extension": ".py",
   "mimetype": "text/x-python",
   "name": "python",
   "nbconvert_exporter": "python",
   "pygments_lexer": "ipython3",
   "version": "3.7.0"
  }
 },
 "nbformat": 4,
 "nbformat_minor": 2
}
